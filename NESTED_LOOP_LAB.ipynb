{
  "cells": [
    {
      "cell_type": "markdown",
      "metadata": {
        "id": "view-in-github",
        "colab_type": "text"
      },
      "source": [
        "<a href=\"https://colab.research.google.com/github/mnenedavid/Python_Simple_Projects/blob/master/NESTED_LOOP_LAB.ipynb\" target=\"_parent\"><img src=\"https://colab.research.google.com/assets/colab-badge.svg\" alt=\"Open In Colab\"/></a>"
      ]
    },
    {
      "cell_type": "markdown",
      "metadata": {
        "id": "ri6IV5NGYNCp"
      },
      "source": [
        "# Using Nested Loops - Lab"
      ]
    },
    {
      "cell_type": "markdown",
      "metadata": {
        "id": "bTTQiVmBYNCr"
      },
      "source": [
        "## Introduction\n",
        "In this lab, you'll practice using nested loops to iterate over nested data structures and create new collections. To do this, you'll be using data from a soccer match to practice our nested loops."
      ]
    },
    {
      "cell_type": "markdown",
      "metadata": {
        "id": "W5Mrs7ezYNCr"
      },
      "source": [
        "## Objectives\n",
        "\n",
        "You will be able to:\n",
        "\n",
        "* Use a nested loop when it is appropriate"
      ]
    },
    {
      "cell_type": "markdown",
      "metadata": {
        "id": "bzqIxl5IYNCs"
      },
      "source": [
        "## Instructions"
      ]
    },
    {
      "cell_type": "markdown",
      "metadata": {
        "id": "8oSwMc42YNCs"
      },
      "source": [
        "Use nested loops and the below object, `soccer_match`, to complete the following prompts and get the desired return values."
      ]
    },
    {
      "cell_type": "code",
      "execution_count": null,
      "metadata": {
        "id": "nTvz3oziYNCs"
      },
      "outputs": [],
      "source": [
        "# Run this cell without changes\n",
        "soccer_match = [\n",
        "  { \"home_team\": True,\n",
        "    \"away_team\": False,\n",
        "    \"country\": \"France\",\n",
        "    \"num_passes\": 484,\n",
        "    \"passes_completed\": 423,\n",
        "    \"fouls_committed\": 16,\n",
        "    \"colors\": [\"blue\", \"white\", \"red\"],\n",
        "    \"players\": [\n",
        "      {\n",
        "        \"name\": \"Hugo LLORIS\",\n",
        "        \"captain\": True,\n",
        "        \"shirt_number\": 1,\n",
        "        \"position\": \"Goalie\"\n",
        "      },\n",
        "      {\n",
        "        \"name\": \"Benjamin PAVARD\",\n",
        "        \"captain\": False,\n",
        "        \"shirt_number\": 2,\n",
        "        \"position\": \"Defender\"\n",
        "      },\n",
        "      {\n",
        "        \"name\": \"Raphael VARANE\",\n",
        "        \"captain\": False,\n",
        "        \"shirt_number\": 4,\n",
        "        \"position\": \"Defender\"\n",
        "      },\n",
        "      {\n",
        "        \"name\": \"Samuel UMTITI\",\n",
        "        \"captain\": False,\n",
        "        \"shirt_number\": 5,\n",
        "        \"position\": \"Defender\"\n",
        "      },\n",
        "      {\n",
        "        \"name\": \"Paul POGBA\",\n",
        "        \"captain\": False,\n",
        "        \"shirt_number\": 6,\n",
        "        \"position\": \"Midfield\"\n",
        "      },\n",
        "      {\n",
        "        \"name\": \"Antoine GRIEZMANN\",\n",
        "        \"captain\": False,\n",
        "        \"shirt_number\": 7,\n",
        "        \"position\": \"Forward\"\n",
        "      },\n",
        "      {\n",
        "        \"name\": \"Kylian MBAPPE\",\n",
        "        \"captain\": False,\n",
        "        \"shirt_number\": 10,\n",
        "        \"position\": \"Forward\"\n",
        "      },\n",
        "      {\n",
        "        \"name\": \"Ousmane DEMBELE\",\n",
        "        \"captain\": False,\n",
        "        \"shirt_number\": 11,\n",
        "        \"position\": \"Forward\"\n",
        "      },\n",
        "      {\n",
        "        \"name\": \"Corentin TOLISSO\",\n",
        "        \"captain\": False,\n",
        "        \"shirt_number\": 12,\n",
        "        \"position\": \"Midfield\"\n",
        "      },\n",
        "      {\n",
        "        \"name\": \"Ngolo KANTE\",\n",
        "        \"captain\": False,\n",
        "        \"shirt_number\": 13,\n",
        "        \"position\": \"Midfield\"\n",
        "      },\n",
        "      {\n",
        "        \"name\": \"Lucas HERNANDEZ\",\n",
        "        \"captain\": False,\n",
        "        \"shirt_number\": 21,\n",
        "        \"position\": \"Defender\"\n",
        "      }\n",
        "    ],\n",
        "  },\n",
        "  { \"home_team\": False,\n",
        "    \"away_team\": True,\n",
        "    \"country\": \"Australia\",\n",
        "    \"num_passes\": 390,\n",
        "    \"passes_completed\": 332,\n",
        "    \"fouls_committed\": 19,\n",
        "    \"colors\": [\"green\", \"gold\"],\n",
        "    \"players\": [\n",
        "      {\n",
        "        \"name\": \"Mathew RYAN\",\n",
        "        \"captain\": False,\n",
        "        \"shirt_number\": 1,\n",
        "        \"position\": \"Goalie\"\n",
        "      },\n",
        "      {\n",
        "        \"name\": \"Mark MILLIGAN\",\n",
        "        \"captain\": False,\n",
        "        \"shirt_number\": 5,\n",
        "        \"position\": \"Defender\"\n",
        "      },\n",
        "      {\n",
        "        \"name\": \"Mathew LECKIE\",\n",
        "        \"captain\": False,\n",
        "        \"shirt_number\": 7,\n",
        "        \"position\": \"Forward\"\n",
        "      },\n",
        "      {\n",
        "        \"name\": \"Robbie KRUSE\",\n",
        "        \"captain\": False,\n",
        "        \"shirt_number\": 10,\n",
        "        \"position\": \"Forward\"\n",
        "      },\n",
        "      {\n",
        "        \"name\": \"Andrew NABBOUT\",\n",
        "        \"captain\": False,\n",
        "        \"shirt_number\": 11,\n",
        "        \"position\": \"Forward\"\n",
        "      },\n",
        "      {\n",
        "        \"name\": \"Aaron MOOY\",\n",
        "        \"captain\": False,\n",
        "        \"shirt_number\": 13,\n",
        "        \"position\": \"Midfield\"\n",
        "      },\n",
        "      {\n",
        "        \"name\": \"Mile JEDINAK\",\n",
        "        \"captain\": True,\n",
        "        \"shirt_number\": 15,\n",
        "        \"position\": \"Midfield\"\n",
        "      },\n",
        "      {\n",
        "        \"name\": \"Aziz BEHICH\",\n",
        "        \"captain\": False,\n",
        "        \"shirt_number\": 16,\n",
        "        \"position\": \"Defender\"\n",
        "      },\n",
        "      {\n",
        "        \"name\": \"Joshua RISDON\",\n",
        "        \"captain\": False,\n",
        "        \"shirt_number\": 19,\n",
        "        \"position\": \"Defender\"\n",
        "      },\n",
        "      {\n",
        "        \"name\": \"Trent SAINSBURY\",\n",
        "        \"captain\": False,\n",
        "        \"shirt_number\": 20,\n",
        "        \"position\": \"Defender\"\n",
        "      },\n",
        "      {\n",
        "        \"name\": \"Tom ROGIC\",\n",
        "        \"captain\": False,\n",
        "        \"shirt_number\": 23,\n",
        "        \"position\": \"Midfield\"\n",
        "      }\n",
        "    ]\n",
        "  }\n",
        "]"
      ]
    },
    {
      "cell_type": "markdown",
      "metadata": {
        "id": "lTdJMbKfYNCt"
      },
      "source": [
        "Let's take a look at some properties of this nested data structure:"
      ]
    },
    {
      "cell_type": "code",
      "execution_count": null,
      "metadata": {
        "id": "q0HQUkGCYNCt",
        "colab": {
          "base_uri": "https://localhost:8080/"
        },
        "outputId": "34aab0f3-ad8d-47b9-e462-357f8d462aeb"
      },
      "outputs": [
        {
          "output_type": "stream",
          "name": "stdout",
          "text": [
            "Information about soccer_match\n",
            "Type: <class 'list'>\n",
            "Length: 2\n",
            "\n",
            "Information about soccer_match[0]:\n",
            "Type: <class 'dict'>\n",
            "Length: 8\n",
            "Keys: dict_keys(['home_team', 'away_team', 'country', 'num_passes', 'passes_completed', 'fouls_committed', 'colors', 'players'])\n",
            "Values: dict_values([False, True, 'Australia', 390, 332, 19, ['green', 'gold'], [{'name': 'Mathew RYAN', 'captain': False, 'shirt_number': 1, 'position': 'Goalie'}, {'name': 'Mark MILLIGAN', 'captain': False, 'shirt_number': 5, 'position': 'Defender'}, {'name': 'Mathew LECKIE', 'captain': False, 'shirt_number': 7, 'position': 'Forward'}, {'name': 'Robbie KRUSE', 'captain': False, 'shirt_number': 10, 'position': 'Forward'}, {'name': 'Andrew NABBOUT', 'captain': False, 'shirt_number': 11, 'position': 'Forward'}, {'name': 'Aaron MOOY', 'captain': False, 'shirt_number': 13, 'position': 'Midfield'}, {'name': 'Mile JEDINAK', 'captain': True, 'shirt_number': 15, 'position': 'Midfield'}, {'name': 'Aziz BEHICH', 'captain': False, 'shirt_number': 16, 'position': 'Defender'}, {'name': 'Joshua RISDON', 'captain': False, 'shirt_number': 19, 'position': 'Defender'}, {'name': 'Trent SAINSBURY', 'captain': False, 'shirt_number': 20, 'position': 'Defender'}, {'name': 'Tom ROGIC', 'captain': False, 'shirt_number': 23, 'position': 'Midfield'}]])\n"
          ]
        }
      ],
      "source": [
        "# Run this cell without changes\n",
        "\n",
        "print(\"Information about soccer_match\")\n",
        "print(\"Type:\", type(soccer_match))\n",
        "print(\"Length:\", len(soccer_match))\n",
        "print()\n",
        "\n",
        "print(\"Information about soccer_match[0]:\")\n",
        "print(\"Type:\", type(soccer_match[0]))\n",
        "print(\"Length:\", len(soccer_match[0]))\n",
        "print(\"Keys:\", soccer_match[0].keys())\n",
        "print(\"Values:\", soccer_match[1].values())"
      ]
    },
    {
      "cell_type": "markdown",
      "metadata": {
        "id": "ZUBHyk7qYNCt"
      },
      "source": [
        "Before looking at the answer below, try to identify: **what does `soccer_match` represent overall, and what does each record within `soccer_match` represent?**\n",
        "\n",
        ".\n",
        "\n",
        ".\n",
        "\n",
        ".\n",
        "\n",
        "*`soccer_match` represents a soccer match (game) containing a home team and an away team. Each record within `soccer_match` represents a team that participated in the match, and their associated stats.*"
      ]
    },
    {
      "cell_type": "markdown",
      "metadata": {
        "id": "Iob6rEhsYNCu"
      },
      "source": [
        "## Countries: A List of Strings\n",
        "\n",
        "In the cell below, iterate over the `soccer_match` list to create a new list with the name of the country for each team."
      ]
    },
    {
      "cell_type": "code",
      "execution_count": null,
      "metadata": {
        "id": "FIx_wxCYYNCu",
        "colab": {
          "base_uri": "https://localhost:8080/"
        },
        "outputId": "e7282b52-8392-46cd-d60e-440cadb73172"
      },
      "outputs": [
        {
          "output_type": "execute_result",
          "data": {
            "text/plain": [
              "['France', 'Australia']"
            ]
          },
          "metadata": {},
          "execution_count": 4
        }
      ],
      "source": [
        "countries = []\n",
        "\n",
        "# Your code here\n",
        "for country_name in soccer_match:\n",
        "    countries.append(country_name['country'])\n",
        "\n",
        "countries # ['France', 'Australia']"
      ]
    },
    {
      "cell_type": "markdown",
      "metadata": {
        "id": "Jqhht7wPYNCu"
      },
      "source": [
        "## Colors: Another List of Strings!\n",
        "\n",
        "In the cell below, iterate over the `soccer_match` list to create a new list with the colors for each team.\n",
        "\n",
        "This should be only one list containing strings for each of the country's colors, not a list of lists."
      ]
    },
    {
      "cell_type": "code",
      "execution_count": null,
      "metadata": {
        "id": "FCuqNaIwYNCu",
        "colab": {
          "base_uri": "https://localhost:8080/"
        },
        "outputId": "79776c01-8122-4ff3-bfb3-8aaecb846e27"
      },
      "outputs": [
        {
          "output_type": "execute_result",
          "data": {
            "text/plain": [
              "['blue', 'white', 'red', 'green', 'gold']"
            ]
          },
          "metadata": {},
          "execution_count": 7
        }
      ],
      "source": [
        "colors = []\n",
        "\n",
        "# Your code here\n",
        "# for team_colors in soccer_match:\n",
        "#     colors.append(team_colors['colors'])\n",
        "\n",
        "for team_colors in soccer_match:\n",
        "    for color in team_colors['colors']:\n",
        "        colors.append(color)\n",
        "\n",
        "colors # ['blue', 'white', 'red', 'green', 'gold']"
      ]
    },
    {
      "cell_type": "markdown",
      "metadata": {
        "id": "sPMerklLYNCu"
      },
      "source": [
        "## Players: A List of Dictionaries\n",
        "\n",
        "This time, iterate over the `soccer_match` list to create a new list with the players from each team. `players` should be a single list containing the dictionaries for each of the country's players."
      ]
    },
    {
      "cell_type": "code",
      "execution_count": null,
      "metadata": {
        "id": "_xh2W0E3YNCu",
        "colab": {
          "base_uri": "https://localhost:8080/"
        },
        "outputId": "8739674f-cad6-4120-fec7-177a402d749f"
      },
      "outputs": [
        {
          "output_type": "stream",
          "name": "stdout",
          "text": [
            "[[{'name': 'Hugo LLORIS', 'captain': True, 'shirt_number': 1, 'position': 'Goalie'}, {'name': 'Benjamin PAVARD', 'captain': False, 'shirt_number': 2, 'position': 'Defender'}, {'name': 'Raphael VARANE', 'captain': False, 'shirt_number': 4, 'position': 'Defender'}, {'name': 'Samuel UMTITI', 'captain': False, 'shirt_number': 5, 'position': 'Defender'}, {'name': 'Paul POGBA', 'captain': False, 'shirt_number': 6, 'position': 'Midfield'}, {'name': 'Antoine GRIEZMANN', 'captain': False, 'shirt_number': 7, 'position': 'Forward'}, {'name': 'Kylian MBAPPE', 'captain': False, 'shirt_number': 10, 'position': 'Forward'}, {'name': 'Ousmane DEMBELE', 'captain': False, 'shirt_number': 11, 'position': 'Forward'}, {'name': 'Corentin TOLISSO', 'captain': False, 'shirt_number': 12, 'position': 'Midfield'}, {'name': 'Ngolo KANTE', 'captain': False, 'shirt_number': 13, 'position': 'Midfield'}, {'name': 'Lucas HERNANDEZ', 'captain': False, 'shirt_number': 21, 'position': 'Defender'}], [{'name': 'Mathew RYAN', 'captain': False, 'shirt_number': 1, 'position': 'Goalie'}, {'name': 'Mark MILLIGAN', 'captain': False, 'shirt_number': 5, 'position': 'Defender'}, {'name': 'Mathew LECKIE', 'captain': False, 'shirt_number': 7, 'position': 'Forward'}, {'name': 'Robbie KRUSE', 'captain': False, 'shirt_number': 10, 'position': 'Forward'}, {'name': 'Andrew NABBOUT', 'captain': False, 'shirt_number': 11, 'position': 'Forward'}, {'name': 'Aaron MOOY', 'captain': False, 'shirt_number': 13, 'position': 'Midfield'}, {'name': 'Mile JEDINAK', 'captain': True, 'shirt_number': 15, 'position': 'Midfield'}, {'name': 'Aziz BEHICH', 'captain': False, 'shirt_number': 16, 'position': 'Defender'}, {'name': 'Joshua RISDON', 'captain': False, 'shirt_number': 19, 'position': 'Defender'}, {'name': 'Trent SAINSBURY', 'captain': False, 'shirt_number': 20, 'position': 'Defender'}, {'name': 'Tom ROGIC', 'captain': False, 'shirt_number': 23, 'position': 'Midfield'}]]\n"
          ]
        }
      ],
      "source": [
        "players = []\n",
        "\n",
        "# Your code here\n",
        "\n",
        "for players_list in soccer_match:\n",
        "    players.append(players_list['players'])\n",
        "\n",
        "print(players) # [{'name': 'Hugo LLORIS', 'captain': True, 'shirt_number': 1, 'position': 'Goalie'}, {'name': 'Benjamin PAVARD',...}, ...]"
      ]
    },
    {
      "cell_type": "markdown",
      "metadata": {
        "id": "hkcdLDKsYNCu"
      },
      "source": [
        "## Captains: Another List of Dictionaries!\n",
        "\n",
        "Iterate over the `soccer_match` list to create a new list with the captains from each team.\n",
        "\n",
        "This should be a single list containing the dictionaries for each of the countries' captains."
      ]
    },
    {
      "cell_type": "code",
      "execution_count": null,
      "metadata": {
        "id": "MV5Ey33nYNCu",
        "colab": {
          "base_uri": "https://localhost:8080/"
        },
        "outputId": "ce98032a-828d-47a0-d7bf-de4fc03cf10f"
      },
      "outputs": [
        {
          "output_type": "execute_result",
          "data": {
            "text/plain": [
              "[{'name': 'Hugo LLORIS',\n",
              "  'captain': True,\n",
              "  'shirt_number': 1,\n",
              "  'position': 'Goalie'},\n",
              " {'name': 'Mile JEDINAK',\n",
              "  'captain': True,\n",
              "  'shirt_number': 15,\n",
              "  'position': 'Midfield'}]"
            ]
          },
          "metadata": {},
          "execution_count": 11
        }
      ],
      "source": [
        "captains = []\n",
        "\n",
        "# Your code here\n",
        "for captains_list in soccer_match:\n",
        "    for captain in captains_list['players']:\n",
        "        if captain['captain'] == True:\n",
        "            captains.append(captain)\n",
        "\n",
        "captains # One captain per team:\n",
        "# [{'name': 'Hugo LLORIS',\n",
        "#   'captain': True,\n",
        "#   'shirt_number': 1,\n",
        "#   'position': 'Goalie'},\n",
        "#  {'name': 'Mile JEDINAK',\n",
        "#   'captain': True,\n",
        "#   'shirt_number': 15,\n",
        "#   'position': 'Midfield'}]"
      ]
    },
    {
      "cell_type": "markdown",
      "metadata": {
        "id": "xwfZVMCqYNCv"
      },
      "source": [
        "## Home Team Players: A Third List of Dictionaries\n",
        "\n",
        "Iterate over the `soccer_match` list to create a new list with the players from ONLY the home team.\n",
        "\n",
        "Do not \"hard-code\" which team this is; use the `'home_team'` key."
      ]
    },
    {
      "cell_type": "code",
      "execution_count": null,
      "metadata": {
        "id": "vApzGKsJYNCv",
        "colab": {
          "base_uri": "https://localhost:8080/"
        },
        "outputId": "0a66601c-79ea-4ab4-b142-796d258289bb"
      },
      "outputs": [
        {
          "output_type": "execute_result",
          "data": {
            "text/plain": [
              "[[{'name': 'Hugo LLORIS',\n",
              "   'captain': True,\n",
              "   'shirt_number': 1,\n",
              "   'position': 'Goalie'},\n",
              "  {'name': 'Benjamin PAVARD',\n",
              "   'captain': False,\n",
              "   'shirt_number': 2,\n",
              "   'position': 'Defender'},\n",
              "  {'name': 'Raphael VARANE',\n",
              "   'captain': False,\n",
              "   'shirt_number': 4,\n",
              "   'position': 'Defender'},\n",
              "  {'name': 'Samuel UMTITI',\n",
              "   'captain': False,\n",
              "   'shirt_number': 5,\n",
              "   'position': 'Defender'},\n",
              "  {'name': 'Paul POGBA',\n",
              "   'captain': False,\n",
              "   'shirt_number': 6,\n",
              "   'position': 'Midfield'},\n",
              "  {'name': 'Antoine GRIEZMANN',\n",
              "   'captain': False,\n",
              "   'shirt_number': 7,\n",
              "   'position': 'Forward'},\n",
              "  {'name': 'Kylian MBAPPE',\n",
              "   'captain': False,\n",
              "   'shirt_number': 10,\n",
              "   'position': 'Forward'},\n",
              "  {'name': 'Ousmane DEMBELE',\n",
              "   'captain': False,\n",
              "   'shirt_number': 11,\n",
              "   'position': 'Forward'},\n",
              "  {'name': 'Corentin TOLISSO',\n",
              "   'captain': False,\n",
              "   'shirt_number': 12,\n",
              "   'position': 'Midfield'},\n",
              "  {'name': 'Ngolo KANTE',\n",
              "   'captain': False,\n",
              "   'shirt_number': 13,\n",
              "   'position': 'Midfield'},\n",
              "  {'name': 'Lucas HERNANDEZ',\n",
              "   'captain': False,\n",
              "   'shirt_number': 21,\n",
              "   'position': 'Defender'}]]"
            ]
          },
          "metadata": {},
          "execution_count": 14
        }
      ],
      "source": [
        "home_team_players = []\n",
        "\n",
        "# Your code here\n",
        "\n",
        "for hm_players in soccer_match:\n",
        "    if hm_players['home_team'] == True:\n",
        "        home_team_players.append(hm_players['players'])\n",
        "\n",
        "home_team_players\n",
        "\n",
        "# [{'name': 'Hugo LLORIS',\n",
        "#   'captain': True,\n",
        "#   'shirt_number': 1,\n",
        "#   'position': 'Goalie'},\n",
        "#  ...\n",
        "#  {'name': 'Lucas HERNANDEZ',\n",
        "#   'captain': False,\n",
        "#   'shirt_number': 21,\n",
        "#   'position': 'Defender'}]"
      ]
    },
    {
      "cell_type": "markdown",
      "metadata": {
        "id": "qXaGCBVjYNCv"
      },
      "source": [
        "## Away Team Forwards: Yup, a List of Dictionaries\n",
        "\n",
        "Iterate over the `soccer_match` list to create a new list with the information for each of the away team players whose `position` is `\"Forward\"`."
      ]
    },
    {
      "cell_type": "code",
      "execution_count": null,
      "metadata": {
        "id": "v0FWs_QdYNCv",
        "colab": {
          "base_uri": "https://localhost:8080/"
        },
        "outputId": "2bb52959-5e03-45f8-b815-6187b6aa0eac"
      },
      "outputs": [
        {
          "output_type": "execute_result",
          "data": {
            "text/plain": [
              "[{'name': 'Mathew LECKIE',\n",
              "  'captain': False,\n",
              "  'shirt_number': 7,\n",
              "  'position': 'Forward'},\n",
              " {'name': 'Robbie KRUSE',\n",
              "  'captain': False,\n",
              "  'shirt_number': 10,\n",
              "  'position': 'Forward'},\n",
              " {'name': 'Andrew NABBOUT',\n",
              "  'captain': False,\n",
              "  'shirt_number': 11,\n",
              "  'position': 'Forward'}]"
            ]
          },
          "metadata": {},
          "execution_count": 17
        }
      ],
      "source": [
        "away_team_forwards = []\n",
        "\n",
        "# Your code here\n",
        "for awy_forward_players in soccer_match:\n",
        "    if awy_forward_players['home_team'] == True:\n",
        "        continue\n",
        "    for forward_players in awy_forward_players['players']:\n",
        "        if forward_players['position'] == 'Forward':\n",
        "            away_team_forwards.append(forward_players)\n",
        "\n",
        "away_team_forwards\n",
        "# [{'name': 'Mathew LECKIE',\n",
        "#   'captain': False,\n",
        "#   'shirt_number': 7,\n",
        "#   'position': 'Forward'},\n",
        "#  {'name': 'Robbie KRUSE',\n",
        "#   'captain': False,\n",
        "#   'shirt_number': 10,\n",
        "#   'position': 'Forward'},\n",
        "#  {'name': 'Andrew NABBOUT',\n",
        "#   'captain': False,\n",
        "#   'shirt_number': 11,\n",
        "#   'position': 'Forward'}]"
      ]
    },
    {
      "cell_type": "markdown",
      "metadata": {
        "id": "vdTnuuLiYNCv"
      },
      "source": [
        "## Player with the Highest Number\n",
        "\n",
        "Iterate over the `soccer_match` list and find the player with the highest `shirt_number`.  \n",
        "Store this player's information in the `player_with_highest_num` variable."
      ]
    },
    {
      "cell_type": "code",
      "execution_count": null,
      "metadata": {
        "id": "b3Qh6HEEYNCv",
        "colab": {
          "base_uri": "https://localhost:8080/"
        },
        "outputId": "8d7ae0f9-7902-4c92-d0e6-8a655489dc84"
      },
      "outputs": [
        {
          "output_type": "stream",
          "name": "stdout",
          "text": [
            "{'name': 'Hugo LLORIS', 'captain': True, 'shirt_number': 1, 'position': 'Goalie'}\n",
            "{'name': 'Benjamin PAVARD', 'captain': False, 'shirt_number': 2, 'position': 'Defender'}\n",
            "{'name': 'Raphael VARANE', 'captain': False, 'shirt_number': 4, 'position': 'Defender'}\n",
            "{'name': 'Samuel UMTITI', 'captain': False, 'shirt_number': 5, 'position': 'Defender'}\n",
            "{'name': 'Paul POGBA', 'captain': False, 'shirt_number': 6, 'position': 'Midfield'}\n",
            "{'name': 'Antoine GRIEZMANN', 'captain': False, 'shirt_number': 7, 'position': 'Forward'}\n",
            "{'name': 'Kylian MBAPPE', 'captain': False, 'shirt_number': 10, 'position': 'Forward'}\n",
            "{'name': 'Ousmane DEMBELE', 'captain': False, 'shirt_number': 11, 'position': 'Forward'}\n",
            "{'name': 'Corentin TOLISSO', 'captain': False, 'shirt_number': 12, 'position': 'Midfield'}\n",
            "{'name': 'Ngolo KANTE', 'captain': False, 'shirt_number': 13, 'position': 'Midfield'}\n",
            "{'name': 'Lucas HERNANDEZ', 'captain': False, 'shirt_number': 21, 'position': 'Defender'}\n",
            "{'name': 'Mathew RYAN', 'captain': False, 'shirt_number': 1, 'position': 'Goalie'}\n",
            "{'name': 'Mark MILLIGAN', 'captain': False, 'shirt_number': 5, 'position': 'Defender'}\n",
            "{'name': 'Mathew LECKIE', 'captain': False, 'shirt_number': 7, 'position': 'Forward'}\n",
            "{'name': 'Robbie KRUSE', 'captain': False, 'shirt_number': 10, 'position': 'Forward'}\n",
            "{'name': 'Andrew NABBOUT', 'captain': False, 'shirt_number': 11, 'position': 'Forward'}\n",
            "{'name': 'Aaron MOOY', 'captain': False, 'shirt_number': 13, 'position': 'Midfield'}\n",
            "{'name': 'Mile JEDINAK', 'captain': True, 'shirt_number': 15, 'position': 'Midfield'}\n",
            "{'name': 'Aziz BEHICH', 'captain': False, 'shirt_number': 16, 'position': 'Defender'}\n",
            "{'name': 'Joshua RISDON', 'captain': False, 'shirt_number': 19, 'position': 'Defender'}\n",
            "{'name': 'Trent SAINSBURY', 'captain': False, 'shirt_number': 20, 'position': 'Defender'}\n",
            "{'name': 'Tom ROGIC', 'captain': False, 'shirt_number': 23, 'position': 'Midfield'}\n"
          ]
        },
        {
          "output_type": "execute_result",
          "data": {
            "text/plain": [
              "{'name': 'Tom ROGIC',\n",
              " 'captain': False,\n",
              " 'shirt_number': 23,\n",
              " 'position': 'Midfield'}"
            ]
          },
          "metadata": {},
          "execution_count": 40
        }
      ],
      "source": [
        "player_with_highest_num = None\n",
        "\n",
        "# Your code here\n",
        "max_number = 0\n",
        "\n",
        "for highest_player_num in soccer_match:\n",
        "    for max_shirt_num in highest_player_num['players']:\n",
        "        print(max_shirt_num)\n",
        "        if max_shirt_num['shirt_number'] > max_number:\n",
        "            max_number = max_shirt_num['shirt_number']\n",
        "            player_with_highest_num = max_shirt_num\n",
        "\n",
        "player_with_highest_num\n",
        "# {'name': 'Tom ROGIC',\n",
        "#  'captain': False,\n",
        "#  'shirt_number': 23,\n",
        "#  'position': 'Midfield'}"
      ]
    },
    {
      "cell_type": "markdown",
      "metadata": {
        "id": "QTYVwS5tYNCv"
      },
      "source": [
        "## Player Names: A Cleaned List\n",
        "\n",
        "Notice that the players oddly have their last names in all caps. Create a list of all the names of the players in this match. Be sure to make sure their first and last names are properly capitalized (first letter upper case, proceeding letters lower case), as opposed to how they are currently formatted."
      ]
    },
    {
      "cell_type": "code",
      "execution_count": null,
      "metadata": {
        "id": "BPfCuWAPYNCv",
        "colab": {
          "base_uri": "https://localhost:8080/"
        },
        "outputId": "58f9c6f7-ee17-4a70-94dd-f34f89379d7d"
      },
      "outputs": [
        {
          "output_type": "execute_result",
          "data": {
            "text/plain": [
              "['Hugo Lloris',\n",
              " 'Benjamin Pavard',\n",
              " 'Raphael Varane',\n",
              " 'Samuel Umtiti',\n",
              " 'Paul Pogba',\n",
              " 'Antoine Griezmann',\n",
              " 'Kylian Mbappe',\n",
              " 'Ousmane Dembele',\n",
              " 'Corentin Tolisso',\n",
              " 'Ngolo Kante',\n",
              " 'Lucas Hernandez',\n",
              " 'Mathew Ryan',\n",
              " 'Mark Milligan',\n",
              " 'Mathew Leckie',\n",
              " 'Robbie Kruse',\n",
              " 'Andrew Nabbout',\n",
              " 'Aaron Mooy',\n",
              " 'Mile Jedinak',\n",
              " 'Aziz Behich',\n",
              " 'Joshua Risdon',\n",
              " 'Trent Sainsbury',\n",
              " 'Tom Rogic']"
            ]
          },
          "metadata": {},
          "execution_count": 51
        }
      ],
      "source": [
        "player_names = []\n",
        "\n",
        "# Your code here\n",
        "\n",
        "for name_of_players in soccer_match:\n",
        "    for name in name_of_players['players']:\n",
        "        player_names.append(name['name'].title())\n",
        "\n",
        "player_names\n",
        "# ['Hugo Lloris',\n",
        "#  'Benjamin Pavard',\n",
        "#  'Raphael Varane',\n",
        "#  'Samuel Umtiti',\n",
        "#  'Paul Pogba',\n",
        "#  'Antoine Griezmann',\n",
        "#  'Kylian Mbappe',\n",
        "#  'Ousmane Dembele',\n",
        "#  'Corentin Tolisso',\n",
        "#  'Ngolo Kante',\n",
        "#  'Lucas Hernandez',\n",
        "#  'Mathew Ryan',\n",
        "#  'Mark Milligan',\n",
        "#  'Mathew Leckie',\n",
        "#  'Robbie Kruse',\n",
        "#  'Andrew Nabbout',\n",
        "#  'Aaron Mooy',\n",
        "#  'Mile Jedinak',\n",
        "#  'Aziz Behich',\n",
        "#  'Joshua Risdon',\n",
        "#  'Trent Sainsbury',\n",
        "#  'Tom Rogic']"
      ]
    },
    {
      "cell_type": "markdown",
      "metadata": {
        "id": "H8U8DJOGYNCv"
      },
      "source": [
        "## Summary"
      ]
    },
    {
      "cell_type": "markdown",
      "metadata": {
        "id": "q7myZfbLYNCv"
      },
      "source": [
        "In this lab, you practiced using nested loops to iterate through a nested data structure using data from a soccer match. Nested data structures can be quite complicated and it can become difficult to access more nested data. With nested loops, you are able to dynamically access this nested data and work with it as you would with a flatter data structure. It is important to think about the structure of the data before and while you're working so you know exactly what data you are working with at each level."
      ]
    }
  ],
  "metadata": {
    "kernelspec": {
      "display_name": "Python (learn-env)",
      "language": "python",
      "name": "learn-env"
    },
    "language_info": {
      "codemirror_mode": {
        "name": "ipython",
        "version": 3
      },
      "file_extension": ".py",
      "mimetype": "text/x-python",
      "name": "python",
      "nbconvert_exporter": "python",
      "pygments_lexer": "ipython3",
      "version": "3.8.5"
    },
    "toc": {
      "base_numbering": 1,
      "nav_menu": {},
      "number_sections": true,
      "sideBar": true,
      "skip_h1_title": false,
      "title_cell": "Table of Contents",
      "title_sidebar": "Contents",
      "toc_cell": false,
      "toc_position": {},
      "toc_section_display": true,
      "toc_window_display": false
    },
    "colab": {
      "provenance": [],
      "include_colab_link": true
    }
  },
  "nbformat": 4,
  "nbformat_minor": 0
}
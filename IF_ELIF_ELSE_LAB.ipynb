{
  "cells": [
    {
      "cell_type": "markdown",
      "metadata": {
        "id": "view-in-github",
        "colab_type": "text"
      },
      "source": [
        "<a href=\"https://colab.research.google.com/github/mnenedavid/Python_Simple_Projects/blob/master/IF_ELIF_ELSE_LAB.ipynb\" target=\"_parent\"><img src=\"https://colab.research.google.com/assets/colab-badge.svg\" alt=\"Open In Colab\"/></a>"
      ]
    },
    {
      "cell_type": "markdown",
      "metadata": {
        "id": "cg0cZ_YuOz74"
      },
      "source": [
        "# Control Flow: Conditionals - Lab\n",
        "\n",
        "## Introduction\n",
        "Now that you have been introduced to conditionals, let's put your knowledge to test and create some conditional statements that selectively assign values to variables based on whether they pass the conditions we set.\n",
        "\n",
        "## Objectives\n",
        "\n",
        "You will be able to:\n",
        "\n",
        "* Use Python conditional statements\n",
        "\n",
        "## Instructions\n",
        "\n",
        "Let's use our knowledge of variables and conditionals to assign values based on different conditions. Follow the instructions below to properly assign the values.\n",
        "\n",
        "With the given code in the cell below, use what you know about numbers and conditionals to assign a value to `my_number` and follow the directions given in the comments below. Use this as a guide to structuring the rest of the problems in this lab."
      ]
    },
    {
      "cell_type": "code",
      "execution_count": null,
      "metadata": {
        "id": "1r_Yx99sOz76",
        "outputId": "1831ed9e-af40-4181-e43e-6f7329d55bc6",
        "colab": {
          "base_uri": "https://localhost:8080/"
        }
      },
      "outputs": [
        {
          "output_type": "stream",
          "name": "stdout",
          "text": [
            "0\n"
          ]
        }
      ],
      "source": [
        "number_50 = 50\n",
        "my_number = None\n",
        "if number_50 > 100:\n",
        "    # if number_50 is greater than 100, assign the `my_number` variable to the number 100\n",
        "    my_number=100\n",
        "    print(my_number)\n",
        "elif number_50 > 50:\n",
        "    # if number_50 is greater than 50, assign the `my_number` variable to the number 50\n",
        "    my_number=50\n",
        "    print(my_number)\n",
        "else:\n",
        "    # else assign the `my_number` variable to 0\n",
        "    my_number=0\n",
        "    print(my_number)"
      ]
    },
    {
      "cell_type": "markdown",
      "metadata": {
        "id": "QfL8HLH9Oz77"
      },
      "source": [
        "Below, use conditionals to tell whether it is hot outside or not. If it is hot, assign the string `\"It is so hot out!\"` to the variable `is_it_hot`. If it is not hot, assign the string `\"This is nothing! Bring on the heat.\"`. For our purposes, anything over `80` degrees is considered hot."
      ]
    },
    {
      "cell_type": "code",
      "execution_count": null,
      "metadata": {
        "id": "2_P7msVoOz77",
        "outputId": "2842bbda-854b-468a-f26d-683e21f9c9a5",
        "colab": {
          "base_uri": "https://localhost:8080/"
        }
      },
      "outputs": [
        {
          "output_type": "stream",
          "name": "stdout",
          "text": [
            "It is so hot out!\n"
          ]
        }
      ],
      "source": [
        "temperature = 85\n",
        "is_it_hot = None\n",
        "# conditionals go here\n",
        "if temperature > 80:\n",
        "    is_it_hot=\"It is so hot out!\"\n",
        "    print(is_it_hot)\n",
        "else:\n",
        "    is_it_hot=\"This is nothing! Bring on the heat.\"\n",
        "    print(is_it_hot)\n"
      ]
    },
    {
      "cell_type": "markdown",
      "metadata": {
        "id": "Psz7EFm1Oz77"
      },
      "source": [
        "Next, let's see what day of the week it is. There are 7 days in the week starting with Sunday at day `1` and ending with Saturday at day `7`. Use conditional statements to assign the day of the week to the variable `day_of_the_week` based on the number below assigned to the variable `today_is`.\n",
        "For example, if the day is `2`, we would assign `day_of_the_week` the value `\"Monday\"`."
      ]
    },
    {
      "cell_type": "code",
      "execution_count": null,
      "metadata": {
        "id": "9-uqZcM6Oz78",
        "outputId": "0679734a-6d34-4b53-e8d1-3833b9708da0",
        "colab": {
          "base_uri": "https://localhost:8080/"
        }
      },
      "outputs": [
        {
          "output_type": "stream",
          "name": "stdout",
          "text": [
            "Tuesday\n"
          ]
        }
      ],
      "source": [
        "today_is = 4\n",
        "day_of_the_week = None\n",
        "# conditionals go here\n",
        "if today_is == 1:\n",
        "    day_of_the_week=\"Sunday\"\n",
        "    print(day_of_the_week)\n",
        "elif today_is == 2:\n",
        "    day_of_the_week=\"Monday\"\n",
        "    print(day_of_the_week)\n",
        "elif today_is == 4:\n",
        "    day_of_the_week=\"Tuesday\"\n",
        "    print(day_of_the_week)\n",
        "elif today_is == 4:\n",
        "    day_of_the_week=\"Wednesday\"\n",
        "    print(day_of_the_week)\n",
        "elif today_is == 5:\n",
        "    day_of_the_week=\"Thursday\"\n",
        "    print(day_of_the_week)\n",
        "elif today_is == 6:\n",
        "    day_of_the_week=\"Friday\"\n",
        "    print(day_of_the_week)\n",
        "elif today_is == 7:\n",
        "    day_of_the_week=\"Saturday\"\n",
        "    print(day_of_the_week)\n",
        "else:\n",
        "    print(\"Invalid day\")"
      ]
    },
    {
      "cell_type": "markdown",
      "metadata": {
        "id": "u5EpXRQmOz78"
      },
      "source": [
        "Finally, let's take a string and see if it ends with a certain substring. If it does, assign the variable `ends_with` to `True`, and if it does not, assign it to `False`. For example, if have the string \"School\" and we want to know if it ends with the sub-string \"cool\". In this case it does not, so, we would assign `False` to the variable `ends_with`."
      ]
    },
    {
      "cell_type": "code",
      "execution_count": null,
      "metadata": {
        "id": "a4dagkruOz78",
        "outputId": "1bf0fb06-5bfb-4410-f23e-5faa72131aec",
        "colab": {
          "base_uri": "https://localhost:8080/"
        }
      },
      "outputs": [
        {
          "output_type": "stream",
          "name": "stdout",
          "text": [
            "True\n"
          ]
        }
      ],
      "source": [
        "string = \"Python\"\n",
        "sub_string = \"on\"\n",
        "ends_with = None\n",
        "# conditionals go here\n",
        "if string.endswith(sub_string):\n",
        "    ends_with=True\n",
        "    print(ends_with)\n",
        "else :\n",
        "    ends_with=False\n",
        "    print(ends_with)"
      ]
    },
    {
      "cell_type": "markdown",
      "metadata": {
        "id": "PMRChVm_Oz78"
      },
      "source": [
        "## Summary\n",
        "\n",
        "Great! In this lab we saw how to use our knowledge of conditionals to selectively assign values based on a condition. We will start integrating conditionals in many more ways in our code and we will start to see how useful they can become in more complex problems."
      ]
    }
  ],
  "metadata": {
    "kernelspec": {
      "display_name": "Python (learn-env)",
      "language": "python",
      "name": "learn-env"
    },
    "language_info": {
      "codemirror_mode": {
        "name": "ipython",
        "version": 3
      },
      "file_extension": ".py",
      "mimetype": "text/x-python",
      "name": "python",
      "nbconvert_exporter": "python",
      "pygments_lexer": "ipython3",
      "version": "3.8.5"
    },
    "toc": {
      "base_numbering": 1,
      "nav_menu": {},
      "number_sections": true,
      "sideBar": true,
      "skip_h1_title": false,
      "title_cell": "Table of Contents",
      "title_sidebar": "Contents",
      "toc_cell": false,
      "toc_position": {},
      "toc_section_display": true,
      "toc_window_display": false
    },
    "colab": {
      "provenance": [],
      "include_colab_link": true
    }
  },
  "nbformat": 4,
  "nbformat_minor": 0
}
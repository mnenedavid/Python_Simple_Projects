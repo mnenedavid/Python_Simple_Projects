{
  "cells": [
    {
      "cell_type": "markdown",
      "metadata": {
        "id": "view-in-github",
        "colab_type": "text"
      },
      "source": [
        "<a href=\"https://colab.research.google.com/github/mnenedavid/Python_Simple_Projects/blob/master/STATISTICAL_MEASURES_CUMULATIVE_LAB.ipynb\" target=\"_parent\"><img src=\"https://colab.research.google.com/assets/colab-badge.svg\" alt=\"Open In Colab\"/></a>"
      ]
    },
    {
      "cell_type": "markdown",
      "metadata": {
        "id": "7v7hTZnNkF9b"
      },
      "source": [
        "# Statistical Measures - Cumulative Lab\n",
        "\n",
        "## Introduction\n",
        "\n",
        "Another section down! Let's pull together the statistical measures learned so far to analyze a dataset and produce some business recommendations.\n",
        "\n",
        "## Objectives\n",
        "\n",
        "You will be able to:\n",
        "\n",
        "* Recall the concepts and applications of measures of central tendency and dispersion\n",
        "* Practice applying and interpreting measures of central tendency and dispersion\n",
        "* Recall the concepts and applications of covariance and correlation\n",
        "* Practice applying and interpreting covariance and correlation\n",
        "\n",
        "## Your Task: Sales Data Analysis and Advertising Recommendations\n",
        "\n",
        "![business meeting](https://curriculum-content.s3.amazonaws.com/data-science/images/business_meeting.jpg)\n",
        "\n",
        "<span>Photo by <a href=\"https://unsplash.com/@sctgrhm?utm_source=unsplash&amp;utm_medium=referral&amp;utm_content=creditCopyText\">Scott Graham</a> on <a href=\"https://unsplash.com/s/photos/graph?utm_source=unsplash&amp;utm_medium=referral&amp;utm_content=creditCopyText\">Unsplash</a></span>\n",
        "\n",
        "### Business Understanding\n",
        "\n",
        "Imagine you work for a company that sells widgets<sup>1</sup> and your boss has asked you to look into the sales data across your media markets for this year. She wants to know:\n",
        "\n",
        "1. What sales volume do we have in a typical market?\n",
        "2. How variable are sales across markets?\n",
        "3. If we have 25k more dollars to spend in advertising per market, should we spend it on TV, radio, or newspaper ads?\n",
        "\n",
        "<sup>1</sup>*Here we are using the [second definition](https://www.merriam-webster.com/dictionary/widget) of widget: \"an unnamed article considered for purposes of hypothetical example\"*\n",
        "\n",
        "### Data Understanding\n",
        "\n",
        "For this lab we will be using a popular dataset known as the \"Advertising Dataset\". It comes from [_An Introduction to Statistical Learning with Applications in R_](https://statlearning.com) by G. James, D. Witten,  T. Hastie and R. Tibshirani. We have downloaded this dataset for you and stored it in this repository.\n",
        "\n",
        "This dataset contains four lists. Each number in each list represents the value for that list in a given market. The four lists are:\n",
        "\n",
        "1. `sales`: the number of widgets sold (in thousands)\n",
        "2. `tv`: the amount of money (in thousands of dollars) spent on TV ads\n",
        "3. `radio`: the amount of money (in thousands of dollars) spent on radio ads\n",
        "4. `newspaper`: the amount of money (in thousands of dollars) spent on newspaper ads\n",
        "\n",
        "So, for example:\n",
        "- the **third number** from each list represents the value of `sales`, `tv`, `radio`, and `newspaper` in **one** market,\n",
        "- the **fourth number** from each list represents the value of `sales`, `tv`, `radio`, and `newspaper` in **another** market,\n",
        "\n",
        "and so on.\n",
        "\n",
        "\n",
        "### Requirements\n",
        "\n",
        "#### 1. Sales Data Summary\n",
        "\n",
        "Write code that describes the number of markets a given list has records for, as well as the sales numbers for the markets with the minimum and maximum sales.\n",
        "\n",
        "#### 2. Typical Sales Volume\n",
        "\n",
        "Use a measure of central tendency to describe a \"typical\" market's sales.\n",
        "\n",
        "#### 3. Dispersion of Sales Volume\n",
        "\n",
        "Use a measure of dispersion to describe how variable sales are across markets.\n",
        "\n",
        "#### 4. Correlations between Advertising Expenditure and Sales\n",
        "\n",
        "Calculate the correlation between TV, radio, and newspaper ad spending and widget sales.\n",
        "\n",
        "#### 5. Where to Spend Additional Dollars\n",
        "\n",
        "Use the findings from step 4 to make a recommendation.\n",
        "\n",
        "## Sales Data Summary\n",
        "\n",
        "In the cell below, we've opened up the dataset and loaded it into lists named `sales`, `tv`, `radio`, and `newspaper`."
      ]
    },
    {
      "cell_type": "code",
      "execution_count": null,
      "metadata": {
        "id": "77H5m19MkF9d",
        "outputId": "3d145d10-fc89-4bee-8896-dcb574d97b95",
        "colab": {
          "base_uri": "https://localhost:8080/"
        }
      },
      "outputs": [
        {
          "output_type": "execute_result",
          "data": {
            "text/plain": [
              "[22.1, 10.4, 9.3, 18.5, 12.9, 7.2, 11.8, 13.2, 4.8, 10.6]"
            ]
          },
          "metadata": {},
          "execution_count": 1
        }
      ],
      "source": [
        "# Run this cell without changes\n",
        "import pandas as pd\n",
        "\n",
        "data = pd.read_csv(\"advertising.csv\", index_col=0)\n",
        "\n",
        "sales = list(data[\"sales\"])\n",
        "tv = list(data[\"TV\"])\n",
        "radio = list(data[\"radio\"])\n",
        "newspaper = list(data[\"newspaper\"])\n",
        "\n",
        "# display the first 10 sales amounts\n",
        "sales[:10]"
      ]
    },
    {
      "cell_type": "markdown",
      "metadata": {
        "id": "4Aovh1WHkF9e"
      },
      "source": [
        "Replace `None` with appropriate code so that this cell prints out the correct information. For this part, you only need to use the `sales` variable.\n",
        "\n",
        "**Reminder**: Replace `None` with code that **calculates** the answer.  Don't calculate the answer by hand and then replace `None` with the number of your answer!"
      ]
    },
    {
      "cell_type": "code",
      "execution_count": null,
      "metadata": {
        "id": "Gd5_6fCpkF9e",
        "outputId": "01efe8c6-a7db-4f14-ba55-e45eae08e930",
        "colab": {
          "base_uri": "https://localhost:8080/"
        }
      },
      "outputs": [
        {
          "output_type": "stream",
          "name": "stdout",
          "text": [
            "\n",
            "This dataset contains records for 200 markets\n",
            "\n",
            "The fewest sales for any market was 1.6 thousand widgets\n",
            "\n",
            "The most sales for any market was 27.0 thousand widgets\n",
            "\n"
          ]
        }
      ],
      "source": [
        "# Replace None with appropriate code\n",
        "num_markets = len(sales)\n",
        "min_sales = min(sales)\n",
        "max_sales = max(sales)\n",
        "\n",
        "print(f\"\"\"\n",
        "This dataset contains records for {num_markets} markets\n",
        "\n",
        "The fewest sales for any market was {min_sales} thousand widgets\n",
        "\n",
        "The most sales for any market was {max_sales} thousand widgets\n",
        "\"\"\")"
      ]
    },
    {
      "cell_type": "markdown",
      "metadata": {
        "id": "IfOP9G7pkF9e"
      },
      "source": [
        "Run this code to create a histogram of all sales data:"
      ]
    },
    {
      "cell_type": "code",
      "execution_count": null,
      "metadata": {
        "id": "EHi2e9qxkF9f",
        "outputId": "3389d0ce-ddc1-4038-b39e-da3f035fedcd",
        "colab": {
          "base_uri": "https://localhost:8080/",
          "height": 487
        }
      },
      "outputs": [
        {
          "output_type": "display_data",
          "data": {
            "text/plain": [
              "<Figure size 1000x500 with 1 Axes>"
            ],
            "image/png": "[encoded data removed]"
          },
          "metadata": {}
        }
      ],
      "source": [
        "# Run this cell without changes\n",
        "import matplotlib.pyplot as plt\n",
        "%matplotlib inline\n",
        "\n",
        "fig, ax = plt.subplots(figsize=(10, 5))\n",
        "\n",
        "ax.hist(sales, bins=15)\n",
        "\n",
        "ax.set_xlabel(\"Sales (thousands of widgets)\")\n",
        "ax.set_ylabel(\"Count\")\n",
        "\n",
        "ax.set_title(\"Distribution of Sales across Markets\");"
      ]
    },
    {
      "cell_type": "markdown",
      "metadata": {
        "id": "Ffa6DEQQkF9f"
      },
      "source": [
        "## Typical Sales Volume\n",
        "\n",
        "Now we should be able to address the first business question: _What sales volume do we have in a typical market?_\n",
        "\n",
        "That sounds like a question to be answered by a **measure of central tendency**.\n",
        "\n",
        "Reminder: the three measures of central tendency we've introduced are:\n",
        "\n",
        " - Mean\n",
        " - Median\n",
        " - Mode\n",
        "\n",
        "Choose the measure that seems most reasonable to you (it's a judgment call — there isn't always a single correct answer!) and complete the cell below, using NumPy or SciPy to compute the measure."
      ]
    },
    {
      "cell_type": "code",
      "execution_count": null,
      "metadata": {
        "id": "SU0jXf9wkF9o",
        "outputId": "6b6e9e6d-52dc-49cb-e8d8-0ece28c133c1",
        "colab": {
          "base_uri": "https://localhost:8080/"
        }
      },
      "outputs": [
        {
          "output_type": "stream",
          "name": "stdout",
          "text": [
            "\n",
            "Typical sales volume is 14.0225 thousand widgets\n",
            "\n",
            "I chose <None> as the relevant measure because <None>\n",
            "\n"
          ]
        }
      ],
      "source": [
        "# Replace None or <None> with appropriate code\n",
        "\n",
        "import numpy as np\n",
        "from scipy import stats\n",
        "\n",
        "# Assign measure_central_tendency to the mean, median, or mode of the sales data\n",
        "measure_central_tendency = np.mean(sales)\n",
        "\n",
        "print(f\"\"\"\n",
        "Typical sales volume is {measure_central_tendency} thousand widgets\n",
        "\n",
        "I chose <None> as the relevant measure because <None>\n",
        "\"\"\")\n"
      ]
    },
    {
      "cell_type": "markdown",
      "metadata": {
        "id": "PumSriVfkF9p"
      },
      "source": [
        "## Dispersion of Sales Volume\n",
        "\n",
        "Now that we have a number to represent the typical sales volume, let's answer: *How variable are sales across markets?*\n",
        "\n",
        "That sounds like a question to be answered by a **measure of dispersion** (also known as a measure of spread).\n",
        "\n",
        "Reminder: the measures of dispersion we've introduced are:\n",
        "\n",
        " - (Average) absolute deviation\n",
        " - Variance\n",
        " - Standard deviation\n",
        " - Interquartile range\n",
        "\n",
        "Choose the measure that seems the most reasonable to you, and write up your answer in the cell below, following the format from the previous question (first calculating the measure, then explaining your answer)."
      ]
    },
    {
      "cell_type": "code",
      "execution_count": null,
      "metadata": {
        "id": "UVL6lDPCkF9p",
        "outputId": "7a0b5e2b-c1a6-41b8-8a0d-db78bd64bb99",
        "colab": {
          "base_uri": "https://localhost:8080/"
        }
      },
      "outputs": [
        {
          "output_type": "stream",
          "name": "stdout",
          "text": [
            "The standard deviation is 5.2, meaning the sales in the different markets are 5.2 thousands from the sales mean: 14.0225\n"
          ]
        }
      ],
      "source": [
        "# Your answer here\n",
        "standard_dev = np.std(sales)\n",
        "print(f\"The standard deviation is {round(standard_dev,2)}, meaning the sales in the different markets are {round(standard_dev,2)} thousands from the sales mean: {measure_central_tendency}\")"
      ]
    },
    {
      "cell_type": "markdown",
      "metadata": {
        "id": "XUGrbdY7kF9p"
      },
      "source": [
        "## Correlations between Advertising Expenditure and Sales\n",
        "\n",
        "Now that we have a general understanding of the distribution of the sales data, we can start to answer: *If we have 25k more dollars to spend in advertising per market, should we spend it on TV, radio, or newspaper ads?*\n",
        "\n",
        "(Eventually we will learn more sophisticated multivariate modeling techniques that will allow us to simulate the impacts of different choices here such as *given TV spending of $x_1$ and radio spending of $x_2$, how would increasing newspaper spending by 25k impact $y$*?, but for now we will just use the tools we have learned so far.)\n",
        "\n",
        "In order to make this recommendation, let's find the **correlation between each advertising medium and the associated sales**.\n",
        "\n",
        "(Recall that *covariance* is the numerator of the correlation formula, and that we typically use correlation rather than just covariance because its magnitude is more interpretable.)\n",
        "\n",
        "In the following cell, compute the correlation between `sales` and `tv`, `radio`, and `newspaper` using NumPy."
      ]
    },
    {
      "cell_type": "code",
      "execution_count": null,
      "metadata": {
        "id": "p2IECsNzkF9p",
        "outputId": "0f88ccf3-0f5a-4a6e-f73a-2af2f9571e8f",
        "colab": {
          "base_uri": "https://localhost:8080/"
        }
      },
      "outputs": [
        {
          "output_type": "stream",
          "name": "stdout",
          "text": [
            "Correlation of Sales and TV Ad Spending: 0.7822244248616061\n",
            "Correlation of Sales and Radio Ad Spending: 0.5762225745710551\n",
            "Correlation of Sales and Newspaper Ad Spending: 0.22829902637616528\n"
          ]
        }
      ],
      "source": [
        "# Replace None with appropriate code\n",
        "\n",
        "tv_corr = np.corrcoef(sales, tv)[0,1]\n",
        "radio_corr = np.corrcoef(sales, radio)[0,1]\n",
        "newspaper_corr = np.corrcoef(sales, newspaper)[0,1]\n",
        "\n",
        "print(\"Correlation of Sales and TV Ad Spending:\", tv_corr)\n",
        "print(\"Correlation of Sales and Radio Ad Spending:\", radio_corr)\n",
        "print(\"Correlation of Sales and Newspaper Ad Spending:\", newspaper_corr)"
      ]
    },
    {
      "cell_type": "markdown",
      "metadata": {
        "id": "Dq0O8ZDakF9p"
      },
      "source": [
        "Which type of ad spending has the highest correlation?"
      ]
    },
    {
      "cell_type": "code",
      "execution_count": null,
      "metadata": {
        "id": "Q6_JuN7IkF9p",
        "outputId": "c87fe96e-600b-4050-d347-886e06fb2370",
        "colab": {
          "base_uri": "https://localhost:8080/"
        }
      },
      "outputs": [
        {
          "output_type": "stream",
          "name": "stdout",
          "text": [
            "TV has the highest correlation with sales\n"
          ]
        }
      ],
      "source": [
        "# Replace <None> with TV, radio, or newspaper\n",
        "print(\"TV has the highest correlation with sales\")"
      ]
    },
    {
      "cell_type": "markdown",
      "metadata": {
        "id": "BVItCwigkF9p"
      },
      "source": [
        "Let's also plot out each of the ad types vs. sales:"
      ]
    },
    {
      "cell_type": "code",
      "execution_count": null,
      "metadata": {
        "id": "3xzS620-kF9p",
        "outputId": "2e40c480-7ed9-47d3-d39f-5e3f431c4e58",
        "colab": {
          "base_uri": "https://localhost:8080/",
          "height": 341
        }
      },
      "outputs": [
        {
          "output_type": "display_data",
          "data": {
            "text/plain": [
              "<Figure size 1000x300 with 3 Axes>"
            ],
            "image/png": "[encoded data removed]"
          },
          "metadata": {}
        }
      ],
      "source": [
        "# Run this cell without changes\n",
        "\n",
        "fig, (ax1, ax2, ax3) = plt.subplots(ncols=3, figsize=(10,3), sharey=True)\n",
        "\n",
        "ax1.scatter(tv, sales)\n",
        "ax2.scatter(radio, sales)\n",
        "ax3.scatter(newspaper, sales)\n",
        "\n",
        "ax1.set_xlabel(\"TV\")\n",
        "ax2.set_xlabel(\"Radio\")\n",
        "ax3.set_xlabel(\"Newspaper\")\n",
        "\n",
        "ax1.set_ylabel(\"Sales\")\n",
        "\n",
        "fig.suptitle(\"Advertising Expenditure vs. Sales Across Media\");"
      ]
    },
    {
      "cell_type": "markdown",
      "metadata": {
        "id": "vnCZZIEhkF9p"
      },
      "source": [
        "## Where to Spend Additional Dollars\n",
        "\n",
        "Based on the correlation numbers and a visual inspection of those plots, make a recommendation to your boss about where to spend 25k extra dollars per market and why."
      ]
    },
    {
      "cell_type": "code",
      "execution_count": null,
      "metadata": {
        "id": "y7lNh2DwkF9q"
      },
      "outputs": [],
      "source": [
        "# Your answer here\n",
        "Tv"
      ]
    },
    {
      "cell_type": "markdown",
      "metadata": {
        "id": "B0j_5RROkF9q"
      },
      "source": [
        "## Conclusion\n",
        "\n",
        "In this cumulative lab, you practiced analyzing sales and advertising data in order to make a business recommendation. Unlike some other labs, there was more ambiguity and we asked you to make some judgment calls in order to use data science concepts for a business audience. In the rest of the course, you will continue building your technical skills and technical communication skills!"
      ]
    }
  ],
  "metadata": {
    "kernelspec": {
      "display_name": "Python (learn-env)",
      "language": "python",
      "name": "learn-env"
    },
    "language_info": {
      "codemirror_mode": {
        "name": "ipython",
        "version": 3
      },
      "file_extension": ".py",
      "mimetype": "text/x-python",
      "name": "python",
      "nbconvert_exporter": "python",
      "pygments_lexer": "ipython3",
      "version": "3.8.5"
    },
    "colab": {
      "provenance": [],
      "include_colab_link": true
    }
  },
  "nbformat": 4,
  "nbformat_minor": 0
}